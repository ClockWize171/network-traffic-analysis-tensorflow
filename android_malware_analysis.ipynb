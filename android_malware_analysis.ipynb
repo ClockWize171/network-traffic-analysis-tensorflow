{
 "cells": [
  {
   "cell_type": "code",
   "execution_count": 1,
   "metadata": {},
   "outputs": [],
   "source": [
    "%matplotlib inline\n",
    "import pandas as pd\n",
    "import numpy as np\n",
    "from sklearn import metrics\n",
    "import tensorflow as tf\n",
    "from tensorflow import keras\n",
    "from tensorflow.keras.models import Sequential\n",
    "from tensorflow.keras.layers import Dense\n",
    "import matplotlib.pyplot as plt\n",
    "import seaborn as sns"
   ]
  },
  {
   "cell_type": "markdown",
   "metadata": {},
   "source": [
    "# Enabling the GPU usage for tensorflow"
   ]
  },
  {
   "cell_type": "code",
   "execution_count": 2,
   "metadata": {},
   "outputs": [
    {
     "name": "stdout",
     "output_type": "stream",
     "text": [
      "Amount of GPUs : 1\n"
     ]
    }
   ],
   "source": [
    "gpu_devices = tf.config.experimental.list_physical_devices('GPU')\n",
    "print('Amount of GPUs :', len(gpu_devices))\n",
    "tf.config.experimental.set_memory_growth(gpu_devices[0], True)"
   ]
  },
  {
   "cell_type": "markdown",
   "metadata": {},
   "source": [
    "## Importing Android Malware traffic datasets"
   ]
  },
  {
   "cell_type": "code",
   "execution_count": 3,
   "metadata": {},
   "outputs": [],
   "source": [
    "# Importing dataset\n",
    "dataset = pd.read_csv('datasets/driodcollector/android_traffic.csv', sep=\";\")\n",
    "pd.set_option(\"display.max_columns\", None)"
   ]
  },
  {
   "cell_type": "markdown",
   "metadata": {},
   "source": [
    "## Data Analyzing"
   ]
  },
  {
   "cell_type": "markdown",
   "metadata": {},
   "source": [
    "### Displaying data dimensions"
   ]
  },
  {
   "cell_type": "code",
   "execution_count": 4,
   "metadata": {},
   "outputs": [
    {
     "name": "stdout",
     "output_type": "stream",
     "text": [
      "Dimension:  (7845, 17)\n"
     ]
    },
    {
     "data": {
      "text/html": [
       "<div>\n",
       "<style scoped>\n",
       "    .dataframe tbody tr th:only-of-type {\n",
       "        vertical-align: middle;\n",
       "    }\n",
       "\n",
       "    .dataframe tbody tr th {\n",
       "        vertical-align: top;\n",
       "    }\n",
       "\n",
       "    .dataframe thead th {\n",
       "        text-align: right;\n",
       "    }\n",
       "</style>\n",
       "<table border=\"1\" class=\"dataframe\">\n",
       "  <thead>\n",
       "    <tr style=\"text-align: right;\">\n",
       "      <th></th>\n",
       "      <th>name</th>\n",
       "      <th>tcp_packets</th>\n",
       "      <th>dist_port_tcp</th>\n",
       "      <th>external_ips</th>\n",
       "      <th>vulume_bytes</th>\n",
       "      <th>udp_packets</th>\n",
       "      <th>tcp_urg_packet</th>\n",
       "      <th>source_app_packets</th>\n",
       "      <th>remote_app_packets</th>\n",
       "      <th>source_app_bytes</th>\n",
       "      <th>remote_app_bytes</th>\n",
       "      <th>duracion</th>\n",
       "      <th>avg_local_pkt_rate</th>\n",
       "      <th>avg_remote_pkt_rate</th>\n",
       "      <th>source_app_packets.1</th>\n",
       "      <th>dns_query_times</th>\n",
       "      <th>type</th>\n",
       "    </tr>\n",
       "  </thead>\n",
       "  <tbody>\n",
       "    <tr>\n",
       "      <th>0</th>\n",
       "      <td>AntiVirus</td>\n",
       "      <td>36</td>\n",
       "      <td>6</td>\n",
       "      <td>3</td>\n",
       "      <td>3911</td>\n",
       "      <td>0</td>\n",
       "      <td>0</td>\n",
       "      <td>39</td>\n",
       "      <td>33</td>\n",
       "      <td>5100</td>\n",
       "      <td>4140</td>\n",
       "      <td>NaN</td>\n",
       "      <td>NaN</td>\n",
       "      <td>NaN</td>\n",
       "      <td>39</td>\n",
       "      <td>3</td>\n",
       "      <td>benign</td>\n",
       "    </tr>\n",
       "    <tr>\n",
       "      <th>1</th>\n",
       "      <td>AntiVirus</td>\n",
       "      <td>117</td>\n",
       "      <td>0</td>\n",
       "      <td>9</td>\n",
       "      <td>23514</td>\n",
       "      <td>0</td>\n",
       "      <td>0</td>\n",
       "      <td>128</td>\n",
       "      <td>107</td>\n",
       "      <td>26248</td>\n",
       "      <td>24358</td>\n",
       "      <td>NaN</td>\n",
       "      <td>NaN</td>\n",
       "      <td>NaN</td>\n",
       "      <td>128</td>\n",
       "      <td>11</td>\n",
       "      <td>benign</td>\n",
       "    </tr>\n",
       "    <tr>\n",
       "      <th>2</th>\n",
       "      <td>AntiVirus</td>\n",
       "      <td>196</td>\n",
       "      <td>0</td>\n",
       "      <td>6</td>\n",
       "      <td>24151</td>\n",
       "      <td>0</td>\n",
       "      <td>0</td>\n",
       "      <td>205</td>\n",
       "      <td>214</td>\n",
       "      <td>163887</td>\n",
       "      <td>24867</td>\n",
       "      <td>NaN</td>\n",
       "      <td>NaN</td>\n",
       "      <td>NaN</td>\n",
       "      <td>205</td>\n",
       "      <td>9</td>\n",
       "      <td>benign</td>\n",
       "    </tr>\n",
       "  </tbody>\n",
       "</table>\n",
       "</div>"
      ],
      "text/plain": [
       "        name  tcp_packets  dist_port_tcp  external_ips  vulume_bytes  \\\n",
       "0  AntiVirus           36              6             3          3911   \n",
       "1  AntiVirus          117              0             9         23514   \n",
       "2  AntiVirus          196              0             6         24151   \n",
       "\n",
       "   udp_packets  tcp_urg_packet  source_app_packets  remote_app_packets  \\\n",
       "0            0               0                  39                  33   \n",
       "1            0               0                 128                 107   \n",
       "2            0               0                 205                 214   \n",
       "\n",
       "   source_app_bytes  remote_app_bytes  duracion  avg_local_pkt_rate  \\\n",
       "0              5100              4140       NaN                 NaN   \n",
       "1             26248             24358       NaN                 NaN   \n",
       "2            163887             24867       NaN                 NaN   \n",
       "\n",
       "   avg_remote_pkt_rate  source_app_packets.1  dns_query_times    type  \n",
       "0                  NaN                    39                3  benign  \n",
       "1                  NaN                   128               11  benign  \n",
       "2                  NaN                   205                9  benign  "
      ]
     },
     "execution_count": 4,
     "metadata": {},
     "output_type": "execute_result"
    }
   ],
   "source": [
    "print('Dimension: ', dataset.shape)\n",
    "dataset.head(3)"
   ]
  },
  {
   "cell_type": "code",
   "execution_count": 5,
   "metadata": {},
   "outputs": [
    {
     "data": {
      "text/html": [
       "<div>\n",
       "<style scoped>\n",
       "    .dataframe tbody tr th:only-of-type {\n",
       "        vertical-align: middle;\n",
       "    }\n",
       "\n",
       "    .dataframe tbody tr th {\n",
       "        vertical-align: top;\n",
       "    }\n",
       "\n",
       "    .dataframe thead th {\n",
       "        text-align: right;\n",
       "    }\n",
       "</style>\n",
       "<table border=\"1\" class=\"dataframe\">\n",
       "  <thead>\n",
       "    <tr style=\"text-align: right;\">\n",
       "      <th></th>\n",
       "      <th>tcp_packets</th>\n",
       "      <th>dist_port_tcp</th>\n",
       "      <th>external_ips</th>\n",
       "      <th>vulume_bytes</th>\n",
       "      <th>udp_packets</th>\n",
       "      <th>tcp_urg_packet</th>\n",
       "      <th>source_app_packets</th>\n",
       "      <th>remote_app_packets</th>\n",
       "      <th>source_app_bytes</th>\n",
       "      <th>remote_app_bytes</th>\n",
       "      <th>duracion</th>\n",
       "      <th>avg_local_pkt_rate</th>\n",
       "      <th>avg_remote_pkt_rate</th>\n",
       "      <th>source_app_packets.1</th>\n",
       "      <th>dns_query_times</th>\n",
       "    </tr>\n",
       "  </thead>\n",
       "  <tbody>\n",
       "    <tr>\n",
       "      <th>count</th>\n",
       "      <td>7845.000000</td>\n",
       "      <td>7845.000000</td>\n",
       "      <td>7845.000000</td>\n",
       "      <td>7.845000e+03</td>\n",
       "      <td>7845.000000</td>\n",
       "      <td>7845.000000</td>\n",
       "      <td>7845.000000</td>\n",
       "      <td>7845.000000</td>\n",
       "      <td>7.845000e+03</td>\n",
       "      <td>7.845000e+03</td>\n",
       "      <td>0.0</td>\n",
       "      <td>0.0</td>\n",
       "      <td>0.0</td>\n",
       "      <td>7845.000000</td>\n",
       "      <td>7845.000000</td>\n",
       "    </tr>\n",
       "    <tr>\n",
       "      <th>mean</th>\n",
       "      <td>147.578713</td>\n",
       "      <td>7.738177</td>\n",
       "      <td>2.748502</td>\n",
       "      <td>1.654375e+04</td>\n",
       "      <td>0.056724</td>\n",
       "      <td>0.000255</td>\n",
       "      <td>152.911918</td>\n",
       "      <td>194.706310</td>\n",
       "      <td>2.024967e+05</td>\n",
       "      <td>1.692260e+04</td>\n",
       "      <td>NaN</td>\n",
       "      <td>NaN</td>\n",
       "      <td>NaN</td>\n",
       "      <td>152.911918</td>\n",
       "      <td>4.898917</td>\n",
       "    </tr>\n",
       "    <tr>\n",
       "      <th>std</th>\n",
       "      <td>777.920084</td>\n",
       "      <td>51.654222</td>\n",
       "      <td>2.923005</td>\n",
       "      <td>8.225650e+04</td>\n",
       "      <td>1.394046</td>\n",
       "      <td>0.015966</td>\n",
       "      <td>779.034618</td>\n",
       "      <td>1068.112696</td>\n",
       "      <td>1.401076e+06</td>\n",
       "      <td>8.238182e+04</td>\n",
       "      <td>NaN</td>\n",
       "      <td>NaN</td>\n",
       "      <td>NaN</td>\n",
       "      <td>779.034618</td>\n",
       "      <td>18.900478</td>\n",
       "    </tr>\n",
       "    <tr>\n",
       "      <th>min</th>\n",
       "      <td>0.000000</td>\n",
       "      <td>0.000000</td>\n",
       "      <td>0.000000</td>\n",
       "      <td>0.000000e+00</td>\n",
       "      <td>0.000000</td>\n",
       "      <td>0.000000</td>\n",
       "      <td>1.000000</td>\n",
       "      <td>0.000000</td>\n",
       "      <td>0.000000e+00</td>\n",
       "      <td>6.900000e+01</td>\n",
       "      <td>NaN</td>\n",
       "      <td>NaN</td>\n",
       "      <td>NaN</td>\n",
       "      <td>1.000000</td>\n",
       "      <td>0.000000</td>\n",
       "    </tr>\n",
       "    <tr>\n",
       "      <th>25%</th>\n",
       "      <td>6.000000</td>\n",
       "      <td>0.000000</td>\n",
       "      <td>1.000000</td>\n",
       "      <td>8.880000e+02</td>\n",
       "      <td>0.000000</td>\n",
       "      <td>0.000000</td>\n",
       "      <td>7.000000</td>\n",
       "      <td>7.000000</td>\n",
       "      <td>9.340000e+02</td>\n",
       "      <td>1.046000e+03</td>\n",
       "      <td>NaN</td>\n",
       "      <td>NaN</td>\n",
       "      <td>NaN</td>\n",
       "      <td>7.000000</td>\n",
       "      <td>1.000000</td>\n",
       "    </tr>\n",
       "    <tr>\n",
       "      <th>50%</th>\n",
       "      <td>25.000000</td>\n",
       "      <td>0.000000</td>\n",
       "      <td>2.000000</td>\n",
       "      <td>3.509000e+03</td>\n",
       "      <td>0.000000</td>\n",
       "      <td>0.000000</td>\n",
       "      <td>30.000000</td>\n",
       "      <td>24.000000</td>\n",
       "      <td>4.090000e+03</td>\n",
       "      <td>3.803000e+03</td>\n",
       "      <td>NaN</td>\n",
       "      <td>NaN</td>\n",
       "      <td>NaN</td>\n",
       "      <td>30.000000</td>\n",
       "      <td>3.000000</td>\n",
       "    </tr>\n",
       "    <tr>\n",
       "      <th>75%</th>\n",
       "      <td>93.000000</td>\n",
       "      <td>0.000000</td>\n",
       "      <td>4.000000</td>\n",
       "      <td>1.218900e+04</td>\n",
       "      <td>0.000000</td>\n",
       "      <td>0.000000</td>\n",
       "      <td>98.000000</td>\n",
       "      <td>92.000000</td>\n",
       "      <td>2.624400e+04</td>\n",
       "      <td>1.261000e+04</td>\n",
       "      <td>NaN</td>\n",
       "      <td>NaN</td>\n",
       "      <td>NaN</td>\n",
       "      <td>98.000000</td>\n",
       "      <td>5.000000</td>\n",
       "    </tr>\n",
       "    <tr>\n",
       "      <th>max</th>\n",
       "      <td>37143.000000</td>\n",
       "      <td>2167.000000</td>\n",
       "      <td>43.000000</td>\n",
       "      <td>4.226790e+06</td>\n",
       "      <td>65.000000</td>\n",
       "      <td>1.000000</td>\n",
       "      <td>37150.000000</td>\n",
       "      <td>45928.000000</td>\n",
       "      <td>6.823516e+07</td>\n",
       "      <td>4.227323e+06</td>\n",
       "      <td>NaN</td>\n",
       "      <td>NaN</td>\n",
       "      <td>NaN</td>\n",
       "      <td>37150.000000</td>\n",
       "      <td>913.000000</td>\n",
       "    </tr>\n",
       "  </tbody>\n",
       "</table>\n",
       "</div>"
      ],
      "text/plain": [
       "        tcp_packets  dist_port_tcp  external_ips  vulume_bytes  udp_packets  \\\n",
       "count   7845.000000    7845.000000   7845.000000  7.845000e+03  7845.000000   \n",
       "mean     147.578713       7.738177      2.748502  1.654375e+04     0.056724   \n",
       "std      777.920084      51.654222      2.923005  8.225650e+04     1.394046   \n",
       "min        0.000000       0.000000      0.000000  0.000000e+00     0.000000   \n",
       "25%        6.000000       0.000000      1.000000  8.880000e+02     0.000000   \n",
       "50%       25.000000       0.000000      2.000000  3.509000e+03     0.000000   \n",
       "75%       93.000000       0.000000      4.000000  1.218900e+04     0.000000   \n",
       "max    37143.000000    2167.000000     43.000000  4.226790e+06    65.000000   \n",
       "\n",
       "       tcp_urg_packet  source_app_packets  remote_app_packets  \\\n",
       "count     7845.000000         7845.000000         7845.000000   \n",
       "mean         0.000255          152.911918          194.706310   \n",
       "std          0.015966          779.034618         1068.112696   \n",
       "min          0.000000            1.000000            0.000000   \n",
       "25%          0.000000            7.000000            7.000000   \n",
       "50%          0.000000           30.000000           24.000000   \n",
       "75%          0.000000           98.000000           92.000000   \n",
       "max          1.000000        37150.000000        45928.000000   \n",
       "\n",
       "       source_app_bytes  remote_app_bytes  duracion  avg_local_pkt_rate  \\\n",
       "count      7.845000e+03      7.845000e+03       0.0                 0.0   \n",
       "mean       2.024967e+05      1.692260e+04       NaN                 NaN   \n",
       "std        1.401076e+06      8.238182e+04       NaN                 NaN   \n",
       "min        0.000000e+00      6.900000e+01       NaN                 NaN   \n",
       "25%        9.340000e+02      1.046000e+03       NaN                 NaN   \n",
       "50%        4.090000e+03      3.803000e+03       NaN                 NaN   \n",
       "75%        2.624400e+04      1.261000e+04       NaN                 NaN   \n",
       "max        6.823516e+07      4.227323e+06       NaN                 NaN   \n",
       "\n",
       "       avg_remote_pkt_rate  source_app_packets.1  dns_query_times  \n",
       "count                  0.0           7845.000000      7845.000000  \n",
       "mean                   NaN            152.911918         4.898917  \n",
       "std                    NaN            779.034618        18.900478  \n",
       "min                    NaN              1.000000         0.000000  \n",
       "25%                    NaN              7.000000         1.000000  \n",
       "50%                    NaN             30.000000         3.000000  \n",
       "75%                    NaN             98.000000         5.000000  \n",
       "max                    NaN          37150.000000       913.000000  "
      ]
     },
     "execution_count": 5,
     "metadata": {},
     "output_type": "execute_result"
    }
   ],
   "source": [
    "dataset.describe()"
   ]
  },
  {
   "cell_type": "code",
   "execution_count": 6,
   "metadata": {},
   "outputs": [
    {
     "name": "stdout",
     "output_type": "stream",
     "text": [
      "<class 'pandas.core.frame.DataFrame'>\n",
      "RangeIndex: 7845 entries, 0 to 7844\n",
      "Data columns (total 17 columns):\n",
      " #   Column                Non-Null Count  Dtype  \n",
      "---  ------                --------------  -----  \n",
      " 0   name                  7845 non-null   object \n",
      " 1   tcp_packets           7845 non-null   int64  \n",
      " 2   dist_port_tcp         7845 non-null   int64  \n",
      " 3   external_ips          7845 non-null   int64  \n",
      " 4   vulume_bytes          7845 non-null   int64  \n",
      " 5   udp_packets           7845 non-null   int64  \n",
      " 6   tcp_urg_packet        7845 non-null   int64  \n",
      " 7   source_app_packets    7845 non-null   int64  \n",
      " 8   remote_app_packets    7845 non-null   int64  \n",
      " 9   source_app_bytes      7845 non-null   int64  \n",
      " 10  remote_app_bytes      7845 non-null   int64  \n",
      " 11  duracion              0 non-null      float64\n",
      " 12  avg_local_pkt_rate    0 non-null      float64\n",
      " 13  avg_remote_pkt_rate   0 non-null      float64\n",
      " 14  source_app_packets.1  7845 non-null   int64  \n",
      " 15  dns_query_times       7845 non-null   int64  \n",
      " 16  type                  7845 non-null   object \n",
      "dtypes: float64(3), int64(12), object(2)\n",
      "memory usage: 1.0+ MB\n"
     ]
    }
   ],
   "source": [
    "dataset.info()"
   ]
  },
  {
   "cell_type": "code",
   "execution_count": 7,
   "metadata": {},
   "outputs": [
    {
     "data": {
      "text/plain": [
       "benign       4704\n",
       "malicious    3141\n",
       "Name: type, dtype: int64"
      ]
     },
     "execution_count": 7,
     "metadata": {},
     "output_type": "execute_result"
    }
   ],
   "source": [
    "dataset['type'].value_counts()"
   ]
  },
  {
   "cell_type": "markdown",
   "metadata": {},
   "source": [
    "## Data Refinement"
   ]
  },
  {
   "cell_type": "code",
   "execution_count": 8,
   "metadata": {},
   "outputs": [
    {
     "name": "stdout",
     "output_type": "stream",
     "text": [
      "If True, it contains NaNs: True\n",
      "Total NaN values: 23535\n"
     ]
    }
   ],
   "source": [
    "print('If True, it contains NaNs: '+ str(dataset.isnull().values.any())) # this is checking entire dataframe\n",
    "print('Total NaN values: '+ str(dataset.isnull().sum().sum()))"
   ]
  },
  {
   "cell_type": "code",
   "execution_count": 9,
   "metadata": {},
   "outputs": [
    {
     "data": {
      "text/plain": [
       "Index(['duracion', 'avg_local_pkt_rate', 'avg_remote_pkt_rate'], dtype='object')"
      ]
     },
     "execution_count": 9,
     "metadata": {},
     "output_type": "execute_result"
    }
   ],
   "source": [
    "# located column which contain NaNs \n",
    "dataset.loc[:, dataset.isnull().any()].columns"
   ]
  },
  {
   "cell_type": "markdown",
   "metadata": {},
   "source": [
    "### Removing empty data columns"
   ]
  },
  {
   "cell_type": "markdown",
   "metadata": {},
   "source": [
    "There are few empty data columns in dataset. They are (<b>avg_local_pkt_rate, avg_remote_pkt_rate, duracion</b>)."
   ]
  },
  {
   "cell_type": "code",
   "execution_count": 10,
   "metadata": {},
   "outputs": [],
   "source": [
    "dataset.drop(['avg_local_pkt_rate', 'avg_remote_pkt_rate', 'duracion'], axis=1, inplace=True)"
   ]
  },
  {
   "cell_type": "code",
   "execution_count": 11,
   "metadata": {},
   "outputs": [
    {
     "name": "stdout",
     "output_type": "stream",
     "text": [
      "If True, it contains NaNs: False\n",
      "(7845, 14)\n"
     ]
    },
    {
     "data": {
      "text/html": [
       "<div>\n",
       "<style scoped>\n",
       "    .dataframe tbody tr th:only-of-type {\n",
       "        vertical-align: middle;\n",
       "    }\n",
       "\n",
       "    .dataframe tbody tr th {\n",
       "        vertical-align: top;\n",
       "    }\n",
       "\n",
       "    .dataframe thead th {\n",
       "        text-align: right;\n",
       "    }\n",
       "</style>\n",
       "<table border=\"1\" class=\"dataframe\">\n",
       "  <thead>\n",
       "    <tr style=\"text-align: right;\">\n",
       "      <th></th>\n",
       "      <th>tcp_packets</th>\n",
       "      <th>dist_port_tcp</th>\n",
       "      <th>external_ips</th>\n",
       "      <th>vulume_bytes</th>\n",
       "      <th>udp_packets</th>\n",
       "      <th>tcp_urg_packet</th>\n",
       "      <th>source_app_packets</th>\n",
       "      <th>remote_app_packets</th>\n",
       "      <th>source_app_bytes</th>\n",
       "      <th>remote_app_bytes</th>\n",
       "      <th>source_app_packets.1</th>\n",
       "      <th>dns_query_times</th>\n",
       "    </tr>\n",
       "  </thead>\n",
       "  <tbody>\n",
       "    <tr>\n",
       "      <th>count</th>\n",
       "      <td>7845.000000</td>\n",
       "      <td>7845.000000</td>\n",
       "      <td>7845.000000</td>\n",
       "      <td>7.845000e+03</td>\n",
       "      <td>7845.000000</td>\n",
       "      <td>7845.000000</td>\n",
       "      <td>7845.000000</td>\n",
       "      <td>7845.000000</td>\n",
       "      <td>7.845000e+03</td>\n",
       "      <td>7.845000e+03</td>\n",
       "      <td>7845.000000</td>\n",
       "      <td>7845.000000</td>\n",
       "    </tr>\n",
       "    <tr>\n",
       "      <th>mean</th>\n",
       "      <td>147.578713</td>\n",
       "      <td>7.738177</td>\n",
       "      <td>2.748502</td>\n",
       "      <td>1.654375e+04</td>\n",
       "      <td>0.056724</td>\n",
       "      <td>0.000255</td>\n",
       "      <td>152.911918</td>\n",
       "      <td>194.706310</td>\n",
       "      <td>2.024967e+05</td>\n",
       "      <td>1.692260e+04</td>\n",
       "      <td>152.911918</td>\n",
       "      <td>4.898917</td>\n",
       "    </tr>\n",
       "    <tr>\n",
       "      <th>std</th>\n",
       "      <td>777.920084</td>\n",
       "      <td>51.654222</td>\n",
       "      <td>2.923005</td>\n",
       "      <td>8.225650e+04</td>\n",
       "      <td>1.394046</td>\n",
       "      <td>0.015966</td>\n",
       "      <td>779.034618</td>\n",
       "      <td>1068.112696</td>\n",
       "      <td>1.401076e+06</td>\n",
       "      <td>8.238182e+04</td>\n",
       "      <td>779.034618</td>\n",
       "      <td>18.900478</td>\n",
       "    </tr>\n",
       "    <tr>\n",
       "      <th>min</th>\n",
       "      <td>0.000000</td>\n",
       "      <td>0.000000</td>\n",
       "      <td>0.000000</td>\n",
       "      <td>0.000000e+00</td>\n",
       "      <td>0.000000</td>\n",
       "      <td>0.000000</td>\n",
       "      <td>1.000000</td>\n",
       "      <td>0.000000</td>\n",
       "      <td>0.000000e+00</td>\n",
       "      <td>6.900000e+01</td>\n",
       "      <td>1.000000</td>\n",
       "      <td>0.000000</td>\n",
       "    </tr>\n",
       "    <tr>\n",
       "      <th>25%</th>\n",
       "      <td>6.000000</td>\n",
       "      <td>0.000000</td>\n",
       "      <td>1.000000</td>\n",
       "      <td>8.880000e+02</td>\n",
       "      <td>0.000000</td>\n",
       "      <td>0.000000</td>\n",
       "      <td>7.000000</td>\n",
       "      <td>7.000000</td>\n",
       "      <td>9.340000e+02</td>\n",
       "      <td>1.046000e+03</td>\n",
       "      <td>7.000000</td>\n",
       "      <td>1.000000</td>\n",
       "    </tr>\n",
       "    <tr>\n",
       "      <th>50%</th>\n",
       "      <td>25.000000</td>\n",
       "      <td>0.000000</td>\n",
       "      <td>2.000000</td>\n",
       "      <td>3.509000e+03</td>\n",
       "      <td>0.000000</td>\n",
       "      <td>0.000000</td>\n",
       "      <td>30.000000</td>\n",
       "      <td>24.000000</td>\n",
       "      <td>4.090000e+03</td>\n",
       "      <td>3.803000e+03</td>\n",
       "      <td>30.000000</td>\n",
       "      <td>3.000000</td>\n",
       "    </tr>\n",
       "    <tr>\n",
       "      <th>75%</th>\n",
       "      <td>93.000000</td>\n",
       "      <td>0.000000</td>\n",
       "      <td>4.000000</td>\n",
       "      <td>1.218900e+04</td>\n",
       "      <td>0.000000</td>\n",
       "      <td>0.000000</td>\n",
       "      <td>98.000000</td>\n",
       "      <td>92.000000</td>\n",
       "      <td>2.624400e+04</td>\n",
       "      <td>1.261000e+04</td>\n",
       "      <td>98.000000</td>\n",
       "      <td>5.000000</td>\n",
       "    </tr>\n",
       "    <tr>\n",
       "      <th>max</th>\n",
       "      <td>37143.000000</td>\n",
       "      <td>2167.000000</td>\n",
       "      <td>43.000000</td>\n",
       "      <td>4.226790e+06</td>\n",
       "      <td>65.000000</td>\n",
       "      <td>1.000000</td>\n",
       "      <td>37150.000000</td>\n",
       "      <td>45928.000000</td>\n",
       "      <td>6.823516e+07</td>\n",
       "      <td>4.227323e+06</td>\n",
       "      <td>37150.000000</td>\n",
       "      <td>913.000000</td>\n",
       "    </tr>\n",
       "  </tbody>\n",
       "</table>\n",
       "</div>"
      ],
      "text/plain": [
       "        tcp_packets  dist_port_tcp  external_ips  vulume_bytes  udp_packets  \\\n",
       "count   7845.000000    7845.000000   7845.000000  7.845000e+03  7845.000000   \n",
       "mean     147.578713       7.738177      2.748502  1.654375e+04     0.056724   \n",
       "std      777.920084      51.654222      2.923005  8.225650e+04     1.394046   \n",
       "min        0.000000       0.000000      0.000000  0.000000e+00     0.000000   \n",
       "25%        6.000000       0.000000      1.000000  8.880000e+02     0.000000   \n",
       "50%       25.000000       0.000000      2.000000  3.509000e+03     0.000000   \n",
       "75%       93.000000       0.000000      4.000000  1.218900e+04     0.000000   \n",
       "max    37143.000000    2167.000000     43.000000  4.226790e+06    65.000000   \n",
       "\n",
       "       tcp_urg_packet  source_app_packets  remote_app_packets  \\\n",
       "count     7845.000000         7845.000000         7845.000000   \n",
       "mean         0.000255          152.911918          194.706310   \n",
       "std          0.015966          779.034618         1068.112696   \n",
       "min          0.000000            1.000000            0.000000   \n",
       "25%          0.000000            7.000000            7.000000   \n",
       "50%          0.000000           30.000000           24.000000   \n",
       "75%          0.000000           98.000000           92.000000   \n",
       "max          1.000000        37150.000000        45928.000000   \n",
       "\n",
       "       source_app_bytes  remote_app_bytes  source_app_packets.1  \\\n",
       "count      7.845000e+03      7.845000e+03           7845.000000   \n",
       "mean       2.024967e+05      1.692260e+04            152.911918   \n",
       "std        1.401076e+06      8.238182e+04            779.034618   \n",
       "min        0.000000e+00      6.900000e+01              1.000000   \n",
       "25%        9.340000e+02      1.046000e+03              7.000000   \n",
       "50%        4.090000e+03      3.803000e+03             30.000000   \n",
       "75%        2.624400e+04      1.261000e+04             98.000000   \n",
       "max        6.823516e+07      4.227323e+06          37150.000000   \n",
       "\n",
       "       dns_query_times  \n",
       "count      7845.000000  \n",
       "mean          4.898917  \n",
       "std          18.900478  \n",
       "min           0.000000  \n",
       "25%           1.000000  \n",
       "50%           3.000000  \n",
       "75%           5.000000  \n",
       "max         913.000000  "
      ]
     },
     "execution_count": 11,
     "metadata": {},
     "output_type": "execute_result"
    }
   ],
   "source": [
    "print('If True, it contains NaNs: '+ str(dataset.isnull().values.any()))\n",
    "print(dataset.shape)\n",
    "dataset.describe()"
   ]
  },
  {
   "cell_type": "markdown",
   "metadata": {},
   "source": [
    "## Data Pre-processing"
   ]
  },
  {
   "cell_type": "markdown",
   "metadata": {},
   "source": [
    "### Numericalization "
   ]
  },
  {
   "cell_type": "code",
   "execution_count": 12,
   "metadata": {},
   "outputs": [],
   "source": [
    "# importing standard scaler\n",
    "from sklearn.preprocessing import StandardScaler,LabelEncoder\n",
    "standard_scaler = StandardScaler()"
   ]
  },
  {
   "cell_type": "code",
   "execution_count": 13,
   "metadata": {},
   "outputs": [],
   "source": [
    "# extracting numerical value from dataframe\n",
    "num_cols = dataset.select_dtypes(include=['float64','int64']).columns\n",
    "\n",
    "# extracting object value from dataframe\n",
    "obj_cols = dataset.select_dtypes(include=['object']).copy()\n",
    "\n",
    "# scaling numeric data \n",
    "scaled_num = standard_scaler.fit_transform(dataset.select_dtypes(include=['float64','int64']))\n",
    "\n",
    "# turn into dataframe\n",
    "pd_scaled_num= pd.DataFrame(scaled_num, columns=num_cols)\n",
    "\n",
    "\n",
    "# merging both numeric data and object data\n",
    "dataset = pd.concat([pd_scaled_num, obj_cols], axis=1)"
   ]
  },
  {
   "cell_type": "code",
   "execution_count": 14,
   "metadata": {},
   "outputs": [
    {
     "data": {
      "text/html": [
       "<div>\n",
       "<style scoped>\n",
       "    .dataframe tbody tr th:only-of-type {\n",
       "        vertical-align: middle;\n",
       "    }\n",
       "\n",
       "    .dataframe tbody tr th {\n",
       "        vertical-align: top;\n",
       "    }\n",
       "\n",
       "    .dataframe thead th {\n",
       "        text-align: right;\n",
       "    }\n",
       "</style>\n",
       "<table border=\"1\" class=\"dataframe\">\n",
       "  <thead>\n",
       "    <tr style=\"text-align: right;\">\n",
       "      <th></th>\n",
       "      <th>tcp_packets</th>\n",
       "      <th>dist_port_tcp</th>\n",
       "      <th>external_ips</th>\n",
       "      <th>vulume_bytes</th>\n",
       "      <th>udp_packets</th>\n",
       "      <th>tcp_urg_packet</th>\n",
       "      <th>source_app_packets</th>\n",
       "      <th>remote_app_packets</th>\n",
       "      <th>source_app_bytes</th>\n",
       "      <th>remote_app_bytes</th>\n",
       "      <th>source_app_packets.1</th>\n",
       "      <th>dns_query_times</th>\n",
       "      <th>name</th>\n",
       "      <th>type</th>\n",
       "    </tr>\n",
       "  </thead>\n",
       "  <tbody>\n",
       "    <tr>\n",
       "      <th>0</th>\n",
       "      <td>-0.143441</td>\n",
       "      <td>-0.033652</td>\n",
       "      <td>0.086046</td>\n",
       "      <td>-0.153587</td>\n",
       "      <td>-0.040693</td>\n",
       "      <td>-0.015969</td>\n",
       "      <td>-0.146231</td>\n",
       "      <td>-0.151404</td>\n",
       "      <td>-0.140898</td>\n",
       "      <td>-0.155173</td>\n",
       "      <td>-0.146231</td>\n",
       "      <td>-0.100476</td>\n",
       "      <td>AntiVirus</td>\n",
       "      <td>benign</td>\n",
       "    </tr>\n",
       "    <tr>\n",
       "      <th>1</th>\n",
       "      <td>-0.039311</td>\n",
       "      <td>-0.149817</td>\n",
       "      <td>2.138859</td>\n",
       "      <td>0.084743</td>\n",
       "      <td>-0.040693</td>\n",
       "      <td>-0.015969</td>\n",
       "      <td>-0.031980</td>\n",
       "      <td>-0.082119</td>\n",
       "      <td>-0.125803</td>\n",
       "      <td>0.090261</td>\n",
       "      <td>-0.031980</td>\n",
       "      <td>0.322821</td>\n",
       "      <td>AntiVirus</td>\n",
       "      <td>benign</td>\n",
       "    </tr>\n",
       "    <tr>\n",
       "      <th>2</th>\n",
       "      <td>0.062249</td>\n",
       "      <td>-0.149817</td>\n",
       "      <td>1.112453</td>\n",
       "      <td>0.092488</td>\n",
       "      <td>-0.040693</td>\n",
       "      <td>-0.015969</td>\n",
       "      <td>0.066867</td>\n",
       "      <td>0.018064</td>\n",
       "      <td>-0.027559</td>\n",
       "      <td>0.096440</td>\n",
       "      <td>0.066867</td>\n",
       "      <td>0.216997</td>\n",
       "      <td>AntiVirus</td>\n",
       "      <td>benign</td>\n",
       "    </tr>\n",
       "  </tbody>\n",
       "</table>\n",
       "</div>"
      ],
      "text/plain": [
       "   tcp_packets  dist_port_tcp  external_ips  vulume_bytes  udp_packets  \\\n",
       "0    -0.143441      -0.033652      0.086046     -0.153587    -0.040693   \n",
       "1    -0.039311      -0.149817      2.138859      0.084743    -0.040693   \n",
       "2     0.062249      -0.149817      1.112453      0.092488    -0.040693   \n",
       "\n",
       "   tcp_urg_packet  source_app_packets  remote_app_packets  source_app_bytes  \\\n",
       "0       -0.015969           -0.146231           -0.151404         -0.140898   \n",
       "1       -0.015969           -0.031980           -0.082119         -0.125803   \n",
       "2       -0.015969            0.066867            0.018064         -0.027559   \n",
       "\n",
       "   remote_app_bytes  source_app_packets.1  dns_query_times       name    type  \n",
       "0         -0.155173             -0.146231        -0.100476  AntiVirus  benign  \n",
       "1          0.090261             -0.031980         0.322821  AntiVirus  benign  \n",
       "2          0.096440              0.066867         0.216997  AntiVirus  benign  "
      ]
     },
     "execution_count": 14,
     "metadata": {},
     "output_type": "execute_result"
    }
   ],
   "source": [
    "dataset.head(3)"
   ]
  },
  {
   "cell_type": "markdown",
   "metadata": {},
   "source": [
    "### Normalization"
   ]
  },
  {
   "cell_type": "markdown",
   "metadata": {},
   "source": [
    "Normalization on type columns"
   ]
  },
  {
   "cell_type": "code",
   "execution_count": 15,
   "metadata": {},
   "outputs": [
    {
     "name": "stdout",
     "output_type": "stream",
     "text": [
      "benign       4704\n",
      "malicious    3141\n",
      "Name: type, dtype: int64\n"
     ]
    }
   ],
   "source": [
    "print(dataset.type.value_counts())"
   ]
  },
  {
   "cell_type": "code",
   "execution_count": 16,
   "metadata": {},
   "outputs": [],
   "source": [
    "# map the label data\n",
    "map_label = {'benign' : 0, 'malicious' : 1}\n",
    "dataset['type'] = dataset['type'].apply(lambda v: map_label[v])"
   ]
  },
  {
   "cell_type": "code",
   "execution_count": 17,
   "metadata": {},
   "outputs": [
    {
     "name": "stdout",
     "output_type": "stream",
     "text": [
      "Unique Label data:  [0 1]\n",
      "(7845, 14)\n"
     ]
    },
    {
     "data": {
      "text/html": [
       "<div>\n",
       "<style scoped>\n",
       "    .dataframe tbody tr th:only-of-type {\n",
       "        vertical-align: middle;\n",
       "    }\n",
       "\n",
       "    .dataframe tbody tr th {\n",
       "        vertical-align: top;\n",
       "    }\n",
       "\n",
       "    .dataframe thead th {\n",
       "        text-align: right;\n",
       "    }\n",
       "</style>\n",
       "<table border=\"1\" class=\"dataframe\">\n",
       "  <thead>\n",
       "    <tr style=\"text-align: right;\">\n",
       "      <th></th>\n",
       "      <th>tcp_packets</th>\n",
       "      <th>dist_port_tcp</th>\n",
       "      <th>external_ips</th>\n",
       "      <th>vulume_bytes</th>\n",
       "      <th>udp_packets</th>\n",
       "      <th>tcp_urg_packet</th>\n",
       "      <th>source_app_packets</th>\n",
       "      <th>remote_app_packets</th>\n",
       "      <th>source_app_bytes</th>\n",
       "      <th>remote_app_bytes</th>\n",
       "      <th>source_app_packets.1</th>\n",
       "      <th>dns_query_times</th>\n",
       "      <th>name</th>\n",
       "      <th>type</th>\n",
       "    </tr>\n",
       "  </thead>\n",
       "  <tbody>\n",
       "    <tr>\n",
       "      <th>0</th>\n",
       "      <td>-0.143441</td>\n",
       "      <td>-0.033652</td>\n",
       "      <td>0.086046</td>\n",
       "      <td>-0.153587</td>\n",
       "      <td>-0.040693</td>\n",
       "      <td>-0.015969</td>\n",
       "      <td>-0.146231</td>\n",
       "      <td>-0.151404</td>\n",
       "      <td>-0.140898</td>\n",
       "      <td>-0.155173</td>\n",
       "      <td>-0.146231</td>\n",
       "      <td>-0.100476</td>\n",
       "      <td>AntiVirus</td>\n",
       "      <td>0</td>\n",
       "    </tr>\n",
       "    <tr>\n",
       "      <th>1</th>\n",
       "      <td>-0.039311</td>\n",
       "      <td>-0.149817</td>\n",
       "      <td>2.138859</td>\n",
       "      <td>0.084743</td>\n",
       "      <td>-0.040693</td>\n",
       "      <td>-0.015969</td>\n",
       "      <td>-0.031980</td>\n",
       "      <td>-0.082119</td>\n",
       "      <td>-0.125803</td>\n",
       "      <td>0.090261</td>\n",
       "      <td>-0.031980</td>\n",
       "      <td>0.322821</td>\n",
       "      <td>AntiVirus</td>\n",
       "      <td>0</td>\n",
       "    </tr>\n",
       "    <tr>\n",
       "      <th>2</th>\n",
       "      <td>0.062249</td>\n",
       "      <td>-0.149817</td>\n",
       "      <td>1.112453</td>\n",
       "      <td>0.092488</td>\n",
       "      <td>-0.040693</td>\n",
       "      <td>-0.015969</td>\n",
       "      <td>0.066867</td>\n",
       "      <td>0.018064</td>\n",
       "      <td>-0.027559</td>\n",
       "      <td>0.096440</td>\n",
       "      <td>0.066867</td>\n",
       "      <td>0.216997</td>\n",
       "      <td>AntiVirus</td>\n",
       "      <td>0</td>\n",
       "    </tr>\n",
       "    <tr>\n",
       "      <th>3</th>\n",
       "      <td>-0.182008</td>\n",
       "      <td>-0.149817</td>\n",
       "      <td>-0.598225</td>\n",
       "      <td>-0.190328</td>\n",
       "      <td>-0.040693</td>\n",
       "      <td>-0.015969</td>\n",
       "      <td>-0.187310</td>\n",
       "      <td>-0.176684</td>\n",
       "      <td>-0.143954</td>\n",
       "      <td>-0.193594</td>\n",
       "      <td>-0.187310</td>\n",
       "      <td>-0.206300</td>\n",
       "      <td>AntiVirus</td>\n",
       "      <td>0</td>\n",
       "    </tr>\n",
       "    <tr>\n",
       "      <th>4</th>\n",
       "      <td>-0.182008</td>\n",
       "      <td>-0.149817</td>\n",
       "      <td>-0.598225</td>\n",
       "      <td>-0.190414</td>\n",
       "      <td>-0.040693</td>\n",
       "      <td>-0.015969</td>\n",
       "      <td>-0.187310</td>\n",
       "      <td>-0.176684</td>\n",
       "      <td>-0.143954</td>\n",
       "      <td>-0.193679</td>\n",
       "      <td>-0.187310</td>\n",
       "      <td>-0.206300</td>\n",
       "      <td>AntiVirus</td>\n",
       "      <td>0</td>\n",
       "    </tr>\n",
       "  </tbody>\n",
       "</table>\n",
       "</div>"
      ],
      "text/plain": [
       "   tcp_packets  dist_port_tcp  external_ips  vulume_bytes  udp_packets  \\\n",
       "0    -0.143441      -0.033652      0.086046     -0.153587    -0.040693   \n",
       "1    -0.039311      -0.149817      2.138859      0.084743    -0.040693   \n",
       "2     0.062249      -0.149817      1.112453      0.092488    -0.040693   \n",
       "3    -0.182008      -0.149817     -0.598225     -0.190328    -0.040693   \n",
       "4    -0.182008      -0.149817     -0.598225     -0.190414    -0.040693   \n",
       "\n",
       "   tcp_urg_packet  source_app_packets  remote_app_packets  source_app_bytes  \\\n",
       "0       -0.015969           -0.146231           -0.151404         -0.140898   \n",
       "1       -0.015969           -0.031980           -0.082119         -0.125803   \n",
       "2       -0.015969            0.066867            0.018064         -0.027559   \n",
       "3       -0.015969           -0.187310           -0.176684         -0.143954   \n",
       "4       -0.015969           -0.187310           -0.176684         -0.143954   \n",
       "\n",
       "   remote_app_bytes  source_app_packets.1  dns_query_times       name  type  \n",
       "0         -0.155173             -0.146231        -0.100476  AntiVirus     0  \n",
       "1          0.090261             -0.031980         0.322821  AntiVirus     0  \n",
       "2          0.096440              0.066867         0.216997  AntiVirus     0  \n",
       "3         -0.193594             -0.187310        -0.206300  AntiVirus     0  \n",
       "4         -0.193679             -0.187310        -0.206300  AntiVirus     0  "
      ]
     },
     "execution_count": 17,
     "metadata": {},
     "output_type": "execute_result"
    }
   ],
   "source": [
    "print('Unique Label data: ', dataset['type'].unique())\n",
    "print(dataset.shape)\n",
    "dataset.head(5)"
   ]
  },
  {
   "cell_type": "markdown",
   "metadata": {},
   "source": [
    "Normalization on name columns"
   ]
  },
  {
   "cell_type": "code",
   "execution_count": 18,
   "metadata": {},
   "outputs": [],
   "source": [
    "# importing standard scaler\n",
    "from sklearn.preprocessing import LabelEncoder\n",
    "label_encoder = LabelEncoder()"
   ]
  },
  {
   "cell_type": "code",
   "execution_count": 19,
   "metadata": {},
   "outputs": [
    {
     "name": "stdout",
     "output_type": "stream",
     "text": [
      "114\n",
      "['AntiVirus' 'Browser' 'chess' 'Communication' 'DailyLife' 'Education'\n",
      " 'Finance' 'HealthAndFitness' 'Input' 'MediaAndVideo' 'NewsAndMagazines'\n",
      " 'Personalization' 'Photography' 'Productivity' 'Reading' 'Shopping'\n",
      " 'Social' 'Sport' 'Tools' 'TravelAndLocal' 'Ackposts' 'Acnetdoor' 'Adrd'\n",
      " 'Adsms' 'Aks' 'Antares' 'Anudow' 'BaseBridge' 'Boxer' 'DroidDream'\n",
      " 'DroidKungFu' 'DroidRooter' 'DroidSheep' 'EICAR-Test-File' 'EWalls'\n",
      " 'ExploitLinuxLotoor' 'FaceNiff' 'FakeDoc' 'FakeFlash' 'FakeInstaller'\n",
      " 'Fakelogo' 'Fakengry' 'FakeRun' 'FakeTimer' 'FinSpy' 'Fjcon' 'FoCobers'\n",
      " 'Fujacks' 'Gamex' 'Gapev' 'Gappusin' 'GGtrack' 'GinMaster' 'Glodream'\n",
      " 'Gmuse' 'Gonca' 'Hamob' 'Hispo' 'Iconosys' 'Imlog' 'JSExploit-DynSrc'\n",
      " 'JSmsHider' 'Kmin' 'Ksapp' 'Loozfon' 'Luckycat' 'Maxit' 'MMarketPay'\n",
      " 'Mobilespy' 'Mobsquz' 'Moghava' 'Nandrobox' 'Nickspy' 'NickyRCP'\n",
      " 'Nyleaker' 'Opfake' 'Pirater' 'Pirates' 'PJApps' 'Placms' 'Plankton'\n",
      " 'Raden' 'RootSmart' 'SafeKidZone' 'Saiva' 'Sakezon' 'Sdisp' 'SeaWeth'\n",
      " 'SendPay' 'SerBG' 'Smspacem' 'SMSreg' 'Spy.GoneSixty' 'Spy.ImLog'\n",
      " 'SpyHasb' 'SpyMob' 'SpyPhone' 'Spyset' 'Stealer' 'Stealthcell' 'Steek'\n",
      " 'Tesbo' 'TheftAware' 'Trackplus' 'TrojanSMS.Denofow' 'TrojanSMS.Hippo'\n",
      " 'Updtbot' 'Vdloader' 'Vidro' 'Xsider' 'YcChar' 'Yzhc' 'Zitmo' 'Zsone']\n"
     ]
    }
   ],
   "source": [
    "a = len(dataset['name'].unique())\n",
    "b = dataset['name'].unique()\n",
    "print (a)\n",
    "print (b)"
   ]
  },
  {
   "cell_type": "code",
   "execution_count": 20,
   "metadata": {},
   "outputs": [],
   "source": [
    "dataset['name'] = label_encoder.fit_transform(dataset.select_dtypes(include=['object']).values.ravel())"
   ]
  },
  {
   "cell_type": "code",
   "execution_count": 21,
   "metadata": {},
   "outputs": [
    {
     "name": "stdout",
     "output_type": "stream",
     "text": [
      "(7845, 14)\n"
     ]
    },
    {
     "data": {
      "text/html": [
       "<div>\n",
       "<style scoped>\n",
       "    .dataframe tbody tr th:only-of-type {\n",
       "        vertical-align: middle;\n",
       "    }\n",
       "\n",
       "    .dataframe tbody tr th {\n",
       "        vertical-align: top;\n",
       "    }\n",
       "\n",
       "    .dataframe thead th {\n",
       "        text-align: right;\n",
       "    }\n",
       "</style>\n",
       "<table border=\"1\" class=\"dataframe\">\n",
       "  <thead>\n",
       "    <tr style=\"text-align: right;\">\n",
       "      <th></th>\n",
       "      <th>tcp_packets</th>\n",
       "      <th>dist_port_tcp</th>\n",
       "      <th>external_ips</th>\n",
       "      <th>vulume_bytes</th>\n",
       "      <th>udp_packets</th>\n",
       "      <th>tcp_urg_packet</th>\n",
       "      <th>source_app_packets</th>\n",
       "      <th>remote_app_packets</th>\n",
       "      <th>source_app_bytes</th>\n",
       "      <th>remote_app_bytes</th>\n",
       "      <th>source_app_packets.1</th>\n",
       "      <th>dns_query_times</th>\n",
       "      <th>name</th>\n",
       "      <th>type</th>\n",
       "    </tr>\n",
       "  </thead>\n",
       "  <tbody>\n",
       "    <tr>\n",
       "      <th>0</th>\n",
       "      <td>-0.143441</td>\n",
       "      <td>-0.033652</td>\n",
       "      <td>0.086046</td>\n",
       "      <td>-0.153587</td>\n",
       "      <td>-0.040693</td>\n",
       "      <td>-0.015969</td>\n",
       "      <td>-0.146231</td>\n",
       "      <td>-0.151404</td>\n",
       "      <td>-0.140898</td>\n",
       "      <td>-0.155173</td>\n",
       "      <td>-0.146231</td>\n",
       "      <td>-0.100476</td>\n",
       "      <td>6</td>\n",
       "      <td>0</td>\n",
       "    </tr>\n",
       "    <tr>\n",
       "      <th>1</th>\n",
       "      <td>-0.039311</td>\n",
       "      <td>-0.149817</td>\n",
       "      <td>2.138859</td>\n",
       "      <td>0.084743</td>\n",
       "      <td>-0.040693</td>\n",
       "      <td>-0.015969</td>\n",
       "      <td>-0.031980</td>\n",
       "      <td>-0.082119</td>\n",
       "      <td>-0.125803</td>\n",
       "      <td>0.090261</td>\n",
       "      <td>-0.031980</td>\n",
       "      <td>0.322821</td>\n",
       "      <td>6</td>\n",
       "      <td>0</td>\n",
       "    </tr>\n",
       "    <tr>\n",
       "      <th>2</th>\n",
       "      <td>0.062249</td>\n",
       "      <td>-0.149817</td>\n",
       "      <td>1.112453</td>\n",
       "      <td>0.092488</td>\n",
       "      <td>-0.040693</td>\n",
       "      <td>-0.015969</td>\n",
       "      <td>0.066867</td>\n",
       "      <td>0.018064</td>\n",
       "      <td>-0.027559</td>\n",
       "      <td>0.096440</td>\n",
       "      <td>0.066867</td>\n",
       "      <td>0.216997</td>\n",
       "      <td>6</td>\n",
       "      <td>0</td>\n",
       "    </tr>\n",
       "  </tbody>\n",
       "</table>\n",
       "</div>"
      ],
      "text/plain": [
       "   tcp_packets  dist_port_tcp  external_ips  vulume_bytes  udp_packets  \\\n",
       "0    -0.143441      -0.033652      0.086046     -0.153587    -0.040693   \n",
       "1    -0.039311      -0.149817      2.138859      0.084743    -0.040693   \n",
       "2     0.062249      -0.149817      1.112453      0.092488    -0.040693   \n",
       "\n",
       "   tcp_urg_packet  source_app_packets  remote_app_packets  source_app_bytes  \\\n",
       "0       -0.015969           -0.146231           -0.151404         -0.140898   \n",
       "1       -0.015969           -0.031980           -0.082119         -0.125803   \n",
       "2       -0.015969            0.066867            0.018064         -0.027559   \n",
       "\n",
       "   remote_app_bytes  source_app_packets.1  dns_query_times  name  type  \n",
       "0         -0.155173             -0.146231        -0.100476     6     0  \n",
       "1          0.090261             -0.031980         0.322821     6     0  \n",
       "2          0.096440              0.066867         0.216997     6     0  "
      ]
     },
     "execution_count": 21,
     "metadata": {},
     "output_type": "execute_result"
    }
   ],
   "source": [
    "print(dataset.shape)\n",
    "dataset.head(3)"
   ]
  },
  {
   "cell_type": "code",
   "execution_count": 22,
   "metadata": {},
   "outputs": [
    {
     "data": {
      "text/plain": [
       "array([  6,  10, 113,  11,  12,  19,  30,  43,  47,  56,  61,  67,  68,\n",
       "        73,  75,  85,  87,  88, 100, 102,   0,   1,   2,   3,   4,   5,\n",
       "         7,   8,   9,  13,  14,  15,  16,  17,  18,  20,  21,  22,  23,\n",
       "        24,  27,  28,  25,  26,  29,  31,  32,  33,  35,  36,  37,  34,\n",
       "        38,  39,  40,  41,  42,  44,  45,  46,  48,  49,  50,  51,  52,\n",
       "        53,  55,  54,  57,  58,  59,  60,  62,  63,  64,  65,  69,  70,\n",
       "        66,  71,  72,  74,  76,  78,  79,  80,  81,  82,  83,  84,  86,\n",
       "        77,  89,  90,  91,  92,  93,  94,  95,  96,  97,  98,  99, 101,\n",
       "       103, 104, 105, 106, 107, 108, 109, 110, 111, 112])"
      ]
     },
     "execution_count": 22,
     "metadata": {},
     "output_type": "execute_result"
    }
   ],
   "source": [
    "dataset = dataset.astype({\"name\": int})\n",
    "dataset['name'].unique()"
   ]
  },
  {
   "cell_type": "code",
   "execution_count": 23,
   "metadata": {},
   "outputs": [
    {
     "name": "stdout",
     "output_type": "stream",
     "text": [
      "<class 'pandas.core.frame.DataFrame'>\n",
      "RangeIndex: 7845 entries, 0 to 7844\n",
      "Data columns (total 14 columns):\n",
      " #   Column                Non-Null Count  Dtype  \n",
      "---  ------                --------------  -----  \n",
      " 0   tcp_packets           7845 non-null   float64\n",
      " 1   dist_port_tcp         7845 non-null   float64\n",
      " 2   external_ips          7845 non-null   float64\n",
      " 3   vulume_bytes          7845 non-null   float64\n",
      " 4   udp_packets           7845 non-null   float64\n",
      " 5   tcp_urg_packet        7845 non-null   float64\n",
      " 6   source_app_packets    7845 non-null   float64\n",
      " 7   remote_app_packets    7845 non-null   float64\n",
      " 8   source_app_bytes      7845 non-null   float64\n",
      " 9   remote_app_bytes      7845 non-null   float64\n",
      " 10  source_app_packets.1  7845 non-null   float64\n",
      " 11  dns_query_times       7845 non-null   float64\n",
      " 12  name                  7845 non-null   int32  \n",
      " 13  type                  7845 non-null   int64  \n",
      "dtypes: float64(12), int32(1), int64(1)\n",
      "memory usage: 827.5 KB\n"
     ]
    }
   ],
   "source": [
    "dataset.info()"
   ]
  },
  {
   "cell_type": "markdown",
   "metadata": {},
   "source": [
    "## Displaying SNS Heatmap Correlation"
   ]
  },
  {
   "cell_type": "code",
   "execution_count": 24,
   "metadata": {},
   "outputs": [
    {
     "data": {
      "image/png": "[encoded data removed]",
      "text/plain": [
       "<Figure size 1080x864 with 2 Axes>"
      ]
     },
     "metadata": {
      "needs_background": "light"
     },
     "output_type": "display_data"
    }
   ],
   "source": [
    "# correlation\n",
    "corr = dataset.corr()\n",
    "plt.figure(figsize=(15,12))\n",
    "sns.heatmap(corr)\n",
    "plt.show()"
   ]
  },
  {
   "cell_type": "markdown",
   "metadata": {},
   "source": [
    "## Using Machine Learning Method"
   ]
  },
  {
   "cell_type": "code",
   "execution_count": 25,
   "metadata": {},
   "outputs": [],
   "source": [
    "from sklearn.model_selection import train_test_split"
   ]
  },
  {
   "cell_type": "markdown",
   "metadata": {},
   "source": [
    "### Data Splitting"
   ]
  },
  {
   "cell_type": "code",
   "execution_count": 26,
   "metadata": {},
   "outputs": [
    {
     "name": "stdout",
     "output_type": "stream",
     "text": [
      "(5256, 13) (5256, 1)\n",
      "(2589, 13) (2589, 1)\n"
     ]
    }
   ],
   "source": [
    "Y = dataset[['type']]\n",
    "X = dataset.drop(['type'], axis =1)\n",
    "X_train, X_test, Y_train, Y_test = train_test_split(X, Y, test_size=0.33, random_state =42)\n",
    "print(X_train.shape, Y_train.shape)\n",
    "print(X_test.shape, Y_test.shape)"
   ]
  },
  {
   "cell_type": "code",
   "execution_count": 27,
   "metadata": {},
   "outputs": [],
   "source": [
    "# Gaussian Naive Bayes\n",
    "import time\n",
    "from sklearn.naive_bayes import GaussianNB\n",
    "from sklearn.metrics import confusion_matrix\n",
    "from sklearn.metrics import accuracy_score\n",
    "GNbayes = GaussianNB()"
   ]
  },
  {
   "cell_type": "code",
   "execution_count": 28,
   "metadata": {},
   "outputs": [
    {
     "name": "stdout",
     "output_type": "stream",
     "text": [
      "Fiting time:  0.003989458084106445\n"
     ]
    }
   ],
   "source": [
    "start_time = time.time()\n",
    "GNbayes.fit(X_train, Y_train.values.ravel())\n",
    "end_time = time.time()\n",
    "print(\"Fiting time: \",end_time-start_time)"
   ]
  },
  {
   "cell_type": "code",
   "execution_count": 29,
   "metadata": {},
   "outputs": [
    {
     "name": "stdout",
     "output_type": "stream",
     "text": [
      "Prediction time:  0.0029926300048828125\n"
     ]
    }
   ],
   "source": [
    "start_time = time.time()\n",
    "prediction2 = GNbayes.predict(X_test)\n",
    "end_time = time.time()\n",
    "print(\"Prediction time: \",end_time-start_time)"
   ]
  },
  {
   "cell_type": "code",
   "execution_count": 30,
   "metadata": {},
   "outputs": [],
   "source": [
    "# train score\n",
    "score = (GNbayes.score(X_train, Y_train))*100\n",
    "final1 = '{0:.4g}'.format(score)\n",
    "# test score\n",
    "score = (GNbayes.score(X_test,Y_test))*100\n",
    "final2 = '{0:.4g}'.format(score)"
   ]
  },
  {
   "cell_type": "code",
   "execution_count": 31,
   "metadata": {},
   "outputs": [
    {
     "name": "stdout",
     "output_type": "stream",
     "text": [
      "0.4421613394216134\n",
      "Train score is: 44.22 %\n",
      "0.44302819621475475\n",
      "Test score is: 44.3 %\n"
     ]
    }
   ],
   "source": [
    "print(GNbayes.score(X_train, Y_train))\n",
    "print(\"Train score is:\", final1, '%')\n",
    "print(GNbayes.score(X_test, Y_test))\n",
    "print(\"Test score is:\", final2, '%')"
   ]
  },
  {
   "cell_type": "code",
   "execution_count": 32,
   "metadata": {},
   "outputs": [
    {
     "name": "stdout",
     "output_type": "stream",
     "text": [
      "----- Confusion Matrix of Prediction ----------\n",
      "[[ 154 1407]\n",
      " [  35  993]]\n"
     ]
    }
   ],
   "source": [
    "# Coufusion Matrix\n",
    "conf_mat = confusion_matrix(Y_test, prediction2)\n",
    "print(\"----- Confusion Matrix of Prediction ----------\")\n",
    "print(conf_mat)"
   ]
  },
  {
   "cell_type": "markdown",
   "metadata": {},
   "source": [
    "## Using Multi-perceptron Layer Neural Network"
   ]
  },
  {
   "cell_type": "code",
   "execution_count": 33,
   "metadata": {},
   "outputs": [
    {
     "name": "stdout",
     "output_type": "stream",
     "text": [
      "Model: \"sequential\"\n",
      "_________________________________________________________________\n",
      "Layer (type)                 Output Shape              Param #   \n",
      "=================================================================\n",
      "dense (Dense)                (None, 10)                140       \n",
      "_________________________________________________________________\n",
      "dense_1 (Dense)              (None, 50)                550       \n",
      "_________________________________________________________________\n",
      "dense_2 (Dense)              (None, 50)                2550      \n",
      "_________________________________________________________________\n",
      "dense_3 (Dense)              (None, 10)                510       \n",
      "_________________________________________________________________\n",
      "dense_4 (Dense)              (None, 1)                 11        \n",
      "_________________________________________________________________\n",
      "dense_5 (Dense)              (None, 1)                 2         \n",
      "=================================================================\n",
      "Total params: 3,763\n",
      "Trainable params: 3,763\n",
      "Non-trainable params: 0\n",
      "_________________________________________________________________\n"
     ]
    }
   ],
   "source": [
    "# building neural network\n",
    "keras.backend.clear_session()\n",
    "model = Sequential()\n",
    "model.add(Dense(10, input_dim=X_train.shape[1], activation='relu'))\n",
    "model.add(Dense(50, input_dim=X_train.shape[1], activation='relu'))\n",
    "model.add(Dense(50, input_dim=X_train.shape[1], activation='relu'))\n",
    "model.add(Dense(10, input_dim=X_train.shape[1], activation='relu'))\n",
    "model.add(Dense(1, kernel_initializer='normal'))\n",
    "model.add(Dense(Y_train.shape[1],activation='sigmoid'))\n",
    "model.compile(loss = 'binary_crossentropy', metrics = ['accuracy'],  optimizer='adam')\n",
    "model.summary()"
   ]
  },
  {
   "cell_type": "code",
   "execution_count": 34,
   "metadata": {},
   "outputs": [],
   "source": [
    "# auto stopping training when it reach its limit\n",
    "from tensorflow.keras.callbacks import EarlyStopping\n",
    "monitor = EarlyStopping(monitor='val_loss', min_delta=1e-3, \n",
    "                        patience=5, verbose=1, mode='auto',\n",
    "                           restore_best_weights=True)"
   ]
  },
  {
   "cell_type": "code",
   "execution_count": 35,
   "metadata": {},
   "outputs": [
    {
     "name": "stdout",
     "output_type": "stream",
     "text": [
      "Epoch 1/1000\n",
      "165/165 - 1s - loss: 0.6526 - accuracy: 0.6037 - val_loss: 0.6603 - val_accuracy: 0.6068\n",
      "Epoch 2/1000\n",
      "165/165 - 1s - loss: 0.6306 - accuracy: 0.6269 - val_loss: 0.6101 - val_accuracy: 0.6528\n",
      "Epoch 3/1000\n",
      "165/165 - 1s - loss: 0.6164 - accuracy: 0.6429 - val_loss: 0.6196 - val_accuracy: 0.6219\n",
      "Epoch 4/1000\n",
      "165/165 - 1s - loss: 0.6104 - accuracy: 0.6360 - val_loss: 0.6269 - val_accuracy: 0.6207\n",
      "Epoch 5/1000\n",
      "165/165 - 1s - loss: 0.6037 - accuracy: 0.6435 - val_loss: 0.6033 - val_accuracy: 0.6300\n",
      "Epoch 6/1000\n",
      "165/165 - 1s - loss: 0.5952 - accuracy: 0.6505 - val_loss: 0.5903 - val_accuracy: 0.6659\n",
      "Epoch 7/1000\n",
      "165/165 - 1s - loss: 0.5863 - accuracy: 0.6638 - val_loss: 0.5780 - val_accuracy: 0.6775\n",
      "Epoch 8/1000\n",
      "165/165 - 1s - loss: 0.5729 - accuracy: 0.6880 - val_loss: 0.5879 - val_accuracy: 0.6895\n",
      "Epoch 9/1000\n",
      "165/165 - 1s - loss: 0.5708 - accuracy: 0.6956 - val_loss: 0.5706 - val_accuracy: 0.6825\n",
      "Epoch 10/1000\n",
      "165/165 - 1s - loss: 0.5604 - accuracy: 0.6982 - val_loss: 0.5893 - val_accuracy: 0.6790\n",
      "Epoch 11/1000\n",
      "165/165 - 1s - loss: 0.5521 - accuracy: 0.7106 - val_loss: 0.5381 - val_accuracy: 0.7204\n",
      "Epoch 12/1000\n",
      "165/165 - 1s - loss: 0.5457 - accuracy: 0.7093 - val_loss: 0.5892 - val_accuracy: 0.6771\n",
      "Epoch 13/1000\n",
      "165/165 - 1s - loss: 0.5392 - accuracy: 0.7131 - val_loss: 0.5287 - val_accuracy: 0.7103\n",
      "Epoch 14/1000\n",
      "165/165 - 1s - loss: 0.5340 - accuracy: 0.7114 - val_loss: 0.5262 - val_accuracy: 0.7389\n",
      "Epoch 15/1000\n",
      "165/165 - 1s - loss: 0.5297 - accuracy: 0.7182 - val_loss: 0.5375 - val_accuracy: 0.7111\n",
      "Epoch 16/1000\n",
      "165/165 - 1s - loss: 0.5284 - accuracy: 0.7173 - val_loss: 0.5261 - val_accuracy: 0.7385\n",
      "Epoch 17/1000\n",
      "165/165 - 1s - loss: 0.5236 - accuracy: 0.7217 - val_loss: 0.5223 - val_accuracy: 0.7146\n",
      "Epoch 18/1000\n",
      "165/165 - 1s - loss: 0.5267 - accuracy: 0.7217 - val_loss: 0.5334 - val_accuracy: 0.7227\n",
      "Epoch 19/1000\n",
      "165/165 - 1s - loss: 0.5257 - accuracy: 0.7146 - val_loss: 0.5389 - val_accuracy: 0.7007\n",
      "Epoch 20/1000\n",
      "165/165 - 1s - loss: 0.5176 - accuracy: 0.7264 - val_loss: 0.5658 - val_accuracy: 0.6902\n",
      "Epoch 21/1000\n",
      "165/165 - 1s - loss: 0.5253 - accuracy: 0.7158 - val_loss: 0.5158 - val_accuracy: 0.7331\n",
      "Epoch 22/1000\n",
      "165/165 - 1s - loss: 0.5160 - accuracy: 0.7319 - val_loss: 0.5338 - val_accuracy: 0.7138\n",
      "Epoch 23/1000\n",
      "165/165 - 1s - loss: 0.5202 - accuracy: 0.7274 - val_loss: 0.5071 - val_accuracy: 0.7466\n",
      "Epoch 24/1000\n",
      "165/165 - 1s - loss: 0.5071 - accuracy: 0.7359 - val_loss: 0.5037 - val_accuracy: 0.7543\n",
      "Epoch 25/1000\n",
      "165/165 - 1s - loss: 0.5041 - accuracy: 0.7479 - val_loss: 0.5031 - val_accuracy: 0.7439\n",
      "Epoch 26/1000\n",
      "165/165 - 1s - loss: 0.5068 - accuracy: 0.7395 - val_loss: 0.5144 - val_accuracy: 0.7169\n",
      "Epoch 27/1000\n",
      "165/165 - 1s - loss: 0.4974 - accuracy: 0.7529 - val_loss: 0.5044 - val_accuracy: 0.7744\n",
      "Epoch 28/1000\n",
      "165/165 - 1s - loss: 0.5043 - accuracy: 0.7487 - val_loss: 0.4902 - val_accuracy: 0.7617\n",
      "Epoch 29/1000\n",
      "165/165 - 1s - loss: 0.4991 - accuracy: 0.7513 - val_loss: 0.4938 - val_accuracy: 0.7822\n",
      "Epoch 30/1000\n",
      "165/165 - 1s - loss: 0.4965 - accuracy: 0.7605 - val_loss: 0.5125 - val_accuracy: 0.7389\n",
      "Epoch 31/1000\n",
      "165/165 - 1s - loss: 0.4923 - accuracy: 0.7688 - val_loss: 0.4944 - val_accuracy: 0.7632\n",
      "Epoch 32/1000\n",
      "165/165 - 1s - loss: 0.4949 - accuracy: 0.7597 - val_loss: 0.4898 - val_accuracy: 0.7895\n",
      "Epoch 33/1000\n",
      "165/165 - 1s - loss: 0.4857 - accuracy: 0.7683 - val_loss: 0.4858 - val_accuracy: 0.7837\n",
      "Epoch 34/1000\n",
      "165/165 - 1s - loss: 0.4879 - accuracy: 0.7723 - val_loss: 0.4819 - val_accuracy: 0.7601\n",
      "Epoch 35/1000\n",
      "165/165 - 1s - loss: 0.4822 - accuracy: 0.7774 - val_loss: 0.4825 - val_accuracy: 0.7910\n",
      "Epoch 36/1000\n",
      "165/165 - 1s - loss: 0.4825 - accuracy: 0.7768 - val_loss: 0.4783 - val_accuracy: 0.7818\n",
      "Epoch 37/1000\n",
      "165/165 - 1s - loss: 0.4798 - accuracy: 0.7804 - val_loss: 0.4759 - val_accuracy: 0.7907\n",
      "Epoch 38/1000\n",
      "165/165 - 1s - loss: 0.4810 - accuracy: 0.7793 - val_loss: 0.4862 - val_accuracy: 0.7856\n",
      "Epoch 39/1000\n",
      "165/165 - 1s - loss: 0.4751 - accuracy: 0.7865 - val_loss: 0.5013 - val_accuracy: 0.7447\n",
      "Epoch 40/1000\n",
      "165/165 - 1s - loss: 0.4750 - accuracy: 0.7822 - val_loss: 0.4671 - val_accuracy: 0.7945\n",
      "Epoch 41/1000\n",
      "165/165 - 1s - loss: 0.4730 - accuracy: 0.7842 - val_loss: 0.4680 - val_accuracy: 0.8026\n",
      "Epoch 42/1000\n",
      "165/165 - 1s - loss: 0.4677 - accuracy: 0.7894 - val_loss: 0.4671 - val_accuracy: 0.7980\n",
      "Epoch 43/1000\n",
      "165/165 - 1s - loss: 0.4778 - accuracy: 0.7850 - val_loss: 0.4926 - val_accuracy: 0.7594\n",
      "Epoch 44/1000\n",
      "165/165 - 1s - loss: 0.4753 - accuracy: 0.7732 - val_loss: 0.4809 - val_accuracy: 0.7988\n",
      "Epoch 45/1000\n",
      "165/165 - 1s - loss: 0.4651 - accuracy: 0.7905 - val_loss: 0.4711 - val_accuracy: 0.8030\n",
      "Restoring model weights from the end of the best epoch.\n",
      "Epoch 00045: early stopping\n"
     ]
    }
   ],
   "source": [
    "# model training\n",
    "training = model.fit(X_train, Y_train, validation_data = (X_test, Y_test), callbacks=[monitor], verbose = 2, epochs=1000)"
   ]
  },
  {
   "cell_type": "code",
   "execution_count": 49,
   "metadata": {},
   "outputs": [
    {
     "data": {
      "image/png": "[encoded data removed]",
      "text/plain": [
       "<Figure size 432x288 with 1 Axes>"
      ]
     },
     "metadata": {
      "needs_background": "light"
     },
     "output_type": "display_data"
    }
   ],
   "source": [
    "plt.plot(training.history['accuracy'], color='green')\n",
    "plt.plot(training.history['val_accuracy'], color='blue')\n",
    "plt.title('Model accuracy of Android Malware dataset')\n",
    "plt.ylabel('accuracy')\n",
    "plt.xlabel('epoch')\n",
    "plt.legend(['train', 'test'], loc='upper left')\n",
    "plt.show()"
   ]
  },
  {
   "cell_type": "code",
   "execution_count": 51,
   "metadata": {},
   "outputs": [
    {
     "data": {
      "image/png": "[encoded data removed]",
      "text/plain": [
       "<Figure size 432x288 with 1 Axes>"
      ]
     },
     "metadata": {
      "needs_background": "light"
     },
     "output_type": "display_data"
    }
   ],
   "source": [
    "plt.plot(training.history['loss'], color='green')\n",
    "plt.plot(training.history['val_loss'], color='blue')\n",
    "plt.title('Model loss of Android Malware dataset')\n",
    "plt.ylabel('loss')\n",
    "plt.xlabel('epoch')\n",
    "plt.legend(['train', 'test'], loc='upper left')\n",
    "plt.show()"
   ]
  },
  {
   "cell_type": "code",
   "execution_count": 36,
   "metadata": {},
   "outputs": [
    {
     "name": "stdout",
     "output_type": "stream",
     "text": [
      "165/165 [==============================] - 0s 2ms/step - loss: 0.4581 - accuracy: 0.7978\n",
      "81/81 [==============================] - 0s 2ms/step - loss: 0.4671 - accuracy: 0.7945\n",
      "Train accuracy: 0.7977549433708191\n",
      "Test accuracy: 0.7945152521133423\n"
     ]
    }
   ],
   "source": [
    "train_score = model.evaluate(X_train, Y_train, verbose=1)\n",
    "test_score = model.evaluate(X_test, Y_test, verbose=1)\n",
    "\n",
    "print('Train accuracy:', train_score[1])\n",
    "print('Test accuracy:', test_score[1])"
   ]
  },
  {
   "cell_type": "code",
   "execution_count": 37,
   "metadata": {},
   "outputs": [
    {
     "name": "stdout",
     "output_type": "stream",
     "text": [
      "Validation score: 1.0\n"
     ]
    }
   ],
   "source": [
    "# Validation score on test data\n",
    "pred = model.predict(X_test)\n",
    "pred = np.argmax(pred,axis=1)\n",
    "y_eval = np.argmax(Y_test,axis=1)\n",
    "score = metrics.accuracy_score(y_eval, pred)\n",
    "print(f\"Validation score: {score}\")"
   ]
  }
 ],
 "metadata": {
  "interpreter": {
   "hash": "24b4925e2b3ee73d2d54ef47d194ea64cb68c4b6c58f98db736c08460774f809"
  },
  "kernelspec": {
   "display_name": "Python 3.9.5 64-bit",
   "language": "python",
   "name": "python3"
  },
  "language_info": {
   "codemirror_mode": {
    "name": "ipython",
    "version": 3
   },
   "file_extension": ".py",
   "mimetype": "text/x-python",
   "name": "python",
   "nbconvert_exporter": "python",
   "pygments_lexer": "ipython3",
   "version": "3.9.5"
  },
  "orig_nbformat": 4
 },
 "nbformat": 4,
 "nbformat_minor": 2
}
